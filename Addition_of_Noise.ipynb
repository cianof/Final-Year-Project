{
 "cells": [
  {
   "cell_type": "code",
   "execution_count": 1,
   "metadata": {},
   "outputs": [
    {
     "name": "stderr",
     "output_type": "stream",
     "text": [
      "C:\\Users\\cferr\\anaconda3\\lib\\site-packages\\torchaudio\\extension\\extension.py:14: UserWarning: torchaudio C++ extension is not available.\n",
      "  warnings.warn('torchaudio C++ extension is not available.')\n",
      "C:\\Users\\cferr\\anaconda3\\lib\\site-packages\\torchaudio\\backend\\utils.py:64: UserWarning: The interface of \"soundfile\" backend is planned to change in 0.8.0 to match that of \"sox_io\" backend and the current interface will be removed in 0.9.0. To use the new interface, do `torchaudio.USE_SOUNDFILE_LEGACY_INTERFACE = False` before setting the backend to \"soundfile\". Please refer to https://github.com/pytorch/audio/issues/903 for the detail.\n",
      "  'The interface of \"soundfile\" backend is planned to change in 0.8.0 to '\n"
     ]
    }
   ],
   "source": [
    "import torchaudio\n",
    "import torch\n",
    "import matplotlib.pyplot as plt\n",
    "\n",
    "import numpy as np\n",
    "import torch\n",
    "import torch.nn.functional as F\n",
    "import torch.nn as nn\n",
    "import sys\n",
    "from torch.autograd import Variable\n",
    "import math\n",
    "# from torchsummary import summary\n",
    "from torchinfo import summary\n",
    "\n",
    "import os\n",
    "import soundfile as sf\n",
    "from os import listdir\n",
    "from os.path import isdir, join\n",
    "import pandas as pd\n",
    "import pathlib\n",
    "import torch.optim as optim\n",
    "import tensorflow as tf\n",
    "\n",
    "from tqdm.notebook import tqdm"
   ]
  },
  {
   "cell_type": "code",
   "execution_count": 2,
   "metadata": {},
   "outputs": [],
   "source": [
    "device = torch.device(\"cuda\" if torch.cuda.is_available() else \"cpu\")"
   ]
  },
  {
   "cell_type": "markdown",
   "metadata": {},
   "source": [
    "Loading in the data"
   ]
  },
  {
   "cell_type": "code",
   "execution_count": 17,
   "metadata": {},
   "outputs": [
    {
     "name": "stdout",
     "output_type": "stream",
     "text": [
      "['backward', 'bed', 'bird', 'cat', 'dog', 'down', 'eight', 'five', 'follow', 'forward', 'four', 'go', 'happy', 'house', 'learn', 'left', 'marvin', 'nine', 'no', 'off', 'on', 'one', 'right', 'seven', 'sheila', 'six', 'stop', 'three', 'tree', 'two', 'up', 'visual', 'wow', 'yes', 'zero']\n"
     ]
    }
   ],
   "source": [
    "data_dir='C:/Users/cferr/Documents/4th Year/FYP Data/speech_commands_v0.02'\n",
    "data_dir_mini='C:/Users/cferr/OneDrive/Documents/4th Year/FYP/Implementation/data/mini_speech_commands/'\n",
    "keywords = [name for name in listdir(data_dir) if isdir(join(data_dir, name))]\n",
    "#remove bg noise as it not a keyword\n",
    "keywords.remove('_background_noise_')\n",
    "print(keywords)"
   ]
  },
  {
   "cell_type": "code",
   "execution_count": 18,
   "metadata": {},
   "outputs": [],
   "source": [
    "word2index = {\n",
    "    # core words\n",
    "    \"backward\": 0,\n",
    "    \"bed\": 1,\n",
    "    \"bird\": 2,\n",
    "    \"cat\": 3,\n",
    "    \"dog\": 4,\n",
    "    \"down\": 5,\n",
    "    \"eight\": 6,\n",
    "    \"five\": 7,\n",
    "    \"follow\": 8,\n",
    "    \"forward\": 9,\n",
    "    \"four\": 10,\n",
    "    \"go\": 11,\n",
    "    \"happy\": 12,\n",
    "    \"house\": 13,\n",
    "    \"learn\": 14,\n",
    "    \"left\": 15,\n",
    "    \"marvin\": 16,\n",
    "    \"nine\": 17,\n",
    "    \"no\": 18,\n",
    "    \"off\": 19,\n",
    "    \"on\":20,\n",
    "    \"one\":21,\n",
    "    \"right\":22,\n",
    "    \"seven\":23,\n",
    "    \"sheila\":24,\n",
    "    \"six\":25,\n",
    "    \"stop\":26,\n",
    "    \"three\":27,\n",
    "    \"tree\":28,\n",
    "    \"two\":29,\n",
    "    \"up\":30,\n",
    "    \"visual\":31,\n",
    "    \"wow\":32,\n",
    "    \"yes\":33,\n",
    "    \"zero\":34\n",
    "}\n",
    "\n",
    "index2word = [word for word in word2index]"
   ]
  },
  {
   "cell_type": "code",
   "execution_count": 19,
   "metadata": {},
   "outputs": [],
   "source": [
    "filenames = []\n",
    "y = []\n",
    "for word_class in word2index:\n",
    "    for files in listdir(join(data_dir, word_class)):\n",
    "        filenames.append(join(word_class, files))\n",
    "        y.append(word2index[word_class]) "
   ]
  },
  {
   "cell_type": "code",
   "execution_count": 20,
   "metadata": {},
   "outputs": [],
   "source": [
    "#create a dictionary of the filenames and labels\n",
    "combined_dict = dict(zip(filenames,y))\n",
    "#save that dictionary\n",
    "np.save('files_dict', combined_dict)"
   ]
  },
  {
   "cell_type": "code",
   "execution_count": 21,
   "metadata": {},
   "outputs": [],
   "source": [
    "from sklearn.model_selection import train_test_split\n",
    "train_data_initial, test_data, train_classes_initial, validation_classes = train_test_split(filenames, y,\n",
    "                                                                      test_size=0.2, random_state=42, shuffle=True)"
   ]
  },
  {
   "cell_type": "code",
   "execution_count": 22,
   "metadata": {},
   "outputs": [],
   "source": [
    "train_data, validation_data, train_classes, validation_classes =train_test_split(train_data_initial, train_classes_initial,\n",
    "                                                                      test_size=0.1, random_state=42, shuffle=False)"
   ]
  },
  {
   "cell_type": "code",
   "execution_count": 23,
   "metadata": {},
   "outputs": [],
   "source": [
    "def getLists(files_in, output_name):\n",
    "  MyFile=open(output_name,'w')\n",
    "\n",
    "  for element in files_in:\n",
    "      MyFile.write(element)\n",
    "      MyFile.write('\\n')\n",
    "  MyFile.close()"
   ]
  },
  {
   "cell_type": "code",
   "execution_count": 24,
   "metadata": {},
   "outputs": [],
   "source": [
    "data_folder = data_dir\n",
    "outdim = len(keywords)\n",
    "lab_dict = np.load('files_dict.npy', allow_pickle=True).item()\n"
   ]
  },
  {
   "cell_type": "code",
   "execution_count": 25,
   "metadata": {},
   "outputs": [],
   "source": [
    "getLists(filenames, 'fileslist.scp')\n",
    "getLists(test_data, 'test.scp')\n",
    "getLists(train_data, 'train.scp')\n",
    "getLists(validation_data, 'val.scp')"
   ]
  },
  {
   "cell_type": "code",
   "execution_count": 26,
   "metadata": {},
   "outputs": [],
   "source": [
    "def ReadList(list_file):\n",
    " f=open(list_file,\"r\")\n",
    " lines=f.readlines()\n",
    " list_sig=[]\n",
    " for x in lines:\n",
    "    list_sig.append(x.rstrip())\n",
    " f.close()\n",
    " return list_sig"
   ]
  },
  {
   "cell_type": "code",
   "execution_count": 27,
   "metadata": {},
   "outputs": [],
   "source": [
    "wav_lst_tr=ReadList('train.scp')\n",
    "snt_tr=len(wav_lst_tr)\n",
    "# test list\n",
    "wav_lst_te=ReadList('test.scp')\n",
    "snt_te=len(wav_lst_te)\n",
    "#validation list\n",
    "wav_lst_val=ReadList('val.scp')\n",
    "snt_val=len(wav_lst_val)"
   ]
  },
  {
   "cell_type": "markdown",
   "metadata": {},
   "source": [
    "Defining the Model Architecture"
   ]
  },
  {
   "cell_type": "code",
   "execution_count": 6,
   "metadata": {},
   "outputs": [],
   "source": [
    "import numpy as np\n",
    "import math\n",
    "\n",
    "class SincConv(torch.nn.Module):\n",
    "    @staticmethod\n",
    "    def to_mel(hz):\n",
    "        return 2595 * np.log10(1 + hz / 700)\n",
    "\n",
    "    @staticmethod\n",
    "    def to_hz(mel):\n",
    "        return 700 * (10 ** (mel / 2595) - 1)\n",
    "\n",
    "    def __init__(self, out_channels, kernel_size, sample_rate=16000, in_channels=1, stride=1, padding=0, min_low_hz=50, min_band_hz=50):\n",
    "        super(SincConv,self).__init__()\n",
    "\n",
    "        if in_channels != 1:\n",
    "            msg = \"SincConv only support one input channel (here, in_channels = {%i})\" % (in_channels)\n",
    "            raise ValueError(msg)\n",
    "\n",
    "        self.out_channels = out_channels\n",
    "        self.kernel_size = kernel_size\n",
    "        # Forcing the filters to be odd (i.e, perfectly symmetrics)\n",
    "        if kernel_size%2==0:\n",
    "            self.kernel_size=self.kernel_size+1\n",
    "        # parameters    \n",
    "        self.stride = stride\n",
    "        self.padding = padding\n",
    "        self.sample_rate = sample_rate\n",
    "        self.min_low_hz = min_low_hz\n",
    "        self.min_band_hz = min_band_hz\n",
    "        # initialize filterbanks such that they are equally spaced in Mel scale\n",
    "        low_hz = 30\n",
    "        high_hz = self.sample_rate / 2 - (self.min_low_hz + self.min_band_hz)\n",
    "        mel = np.linspace(self.to_mel(low_hz), self.to_mel(high_hz), self.out_channels + 1)\n",
    "        hz = self.to_hz(mel)\n",
    "        # filter lower frequency (out_channels, 1)\n",
    "        self.low_hz_ = torch.nn.Parameter(torch.Tensor(hz[:-1]).view(-1, 1))\n",
    "        # self.low_hz_ =torch.Tensor(hz[:-1]).view(-1, 1).to(device)\n",
    "        # filter frequency band (out_channels, 1)\n",
    "        self.band_hz_ = torch.nn.Parameter(torch.Tensor(np.diff(hz)).view(-1, 1))\n",
    "        # self.band_hz_ =torch.Tensor(np.diff(hz)).view(-1, 1).to(device)\n",
    "\n",
    "        # Hamming window\n",
    "        n_lin=torch.linspace(0, (self.kernel_size/2)-1, steps=int((self.kernel_size/2))) # computing only half of the window\n",
    "        self.window_=0.54-0.46*torch.cos(2*math.pi*n_lin/self.kernel_size);\n",
    "        # (1, kernel_size/2)\n",
    "        n = (self.kernel_size - 1) / 2.0\n",
    "        self.n_ = 2*math.pi*torch.arange(-n, 0).view(1, -1) / self.sample_rate # Due to symmetry, I only need half of the time axes\n",
    "\n",
    "    def forward(self, waveforms):\n",
    "        self.n_ = self.n_.to(waveforms.device)\n",
    "        self.window_ = self.window_.to(waveforms.device)\n",
    "        low = self.min_low_hz  + torch.abs(self.low_hz_)\n",
    "        # low= low.to(device)\n",
    "        high = torch.clamp(low + self.min_band_hz + torch.abs(self.band_hz_),self.min_low_hz,self.sample_rate/2)\n",
    "        # high=high.to(device)\n",
    "        band=(high-low)[:,0]\n",
    "        \n",
    "        # f_times_t_low = torch.matmul(low, self.n_).to(device)\n",
    "        # f_times_t_high = torch.matmul(high, self.n_).to(device)\n",
    "        f_times_t_low = torch.matmul(low, self.n_)\n",
    "        f_times_t_high = torch.matmul(high, self.n_)\n",
    "\n",
    "\n",
    "        band_pass_left=((torch.sin(f_times_t_high)-torch.sin(f_times_t_low))/(self.n_/2))*self.window_ # Equivalent of Eq.4 of the reference paper (SPEAKER RECOGNITION FROM RAW WAVEFORM WITH SINCNET). I just have expanded the sinc and simplified the terms. This way I avoid several useless computations. \n",
    "        band_pass_center = 2*band.view(-1,1)\n",
    "        band_pass_right= torch.flip(band_pass_left,dims=[1])\n",
    "        \n",
    "        band_pass=torch.cat([band_pass_left,band_pass_center,band_pass_right],dim=1)\n",
    "        band_pass = band_pass / (2*band[:,None])\n",
    "\n",
    "        self.filters = (band_pass).view(self.out_channels, 1, self.kernel_size)\n",
    "        return torch.nn.functional.conv1d(waveforms, self.filters, stride=self.stride, padding=self.padding, dilation=1, bias=None, groups=1) "
   ]
  },
  {
   "cell_type": "code",
   "execution_count": 7,
   "metadata": {},
   "outputs": [],
   "source": [
    "class LogAbs(torch.nn.Module):\n",
    "    def __init__(self):\n",
    "        super(LogAbs,self).__init__()\n",
    "\n",
    "    def forward(self, x):\n",
    "        return torch.log(torch.abs(x) + 1)"
   ]
  },
  {
   "cell_type": "code",
   "execution_count": 8,
   "metadata": {},
   "outputs": [],
   "source": [
    "def SincConvBlock(c, k, s, sample_rate=16000):\n",
    "    sinc_conv = SincConv(out_channels=c, kernel_size=k, sample_rate=sample_rate, in_channels=1, stride=s, padding=k//2)\n",
    "    avg_pool = torch.nn.AvgPool1d(kernel_size=2, stride=2)\n",
    "    return torch.nn.Sequential(sinc_conv, LogAbs(), torch.nn.BatchNorm1d(c), avg_pool)\n",
    "\n",
    "def DSConvBlock(c_in, c, k, s):\n",
    "    depth_conv = torch.nn.Conv1d(in_channels=c_in, out_channels=c_in, kernel_size=k, stride=s, padding=k//2, groups=c_in)\n",
    "    point_conv = torch.nn.Conv1d(in_channels=c_in, out_channels=c, kernel_size=1, stride=1)\n",
    "    return torch.nn.Sequential(depth_conv, point_conv, torch.nn.ReLU(), torch.nn.BatchNorm1d(c), torch.nn.AvgPool1d(2), torch.nn.Dropout(0.1))"
   ]
  },
  {
   "cell_type": "code",
   "execution_count": 9,
   "metadata": {},
   "outputs": [],
   "source": [
    "model = torch.nn.Sequential(\n",
    "    SincConvBlock(c=40, k=101, s=8),\n",
    "    DSConvBlock(40,160,25,2), \n",
    "    DSConvBlock(160,160,9,1), \n",
    "    DSConvBlock(160,160,9,1), \n",
    "    DSConvBlock(160,160,9,1), \n",
    "    DSConvBlock(160,160,9,1), \n",
    "    torch.nn.AvgPool1d(15),\n",
    "    torch.nn.Flatten(),\n",
    "    torch.nn.Linear(160,35),\n",
    "    torch.nn.Softmax(dim=1)\n",
    ")"
   ]
  },
  {
   "cell_type": "code",
   "execution_count": 33,
   "metadata": {},
   "outputs": [
    {
     "name": "stdout",
     "output_type": "stream",
     "text": [
      "cpu\n"
     ]
    }
   ],
   "source": [
    "print(device)"
   ]
  },
  {
   "cell_type": "code",
   "execution_count": 34,
   "metadata": {},
   "outputs": [
    {
     "data": {
      "text/plain": [
       "<All keys matched successfully>"
      ]
     },
     "execution_count": 34,
     "metadata": {},
     "output_type": "execute_result"
    }
   ],
   "source": [
    "model_tmp = model\n",
    "model_tmp.load_state_dict(torch.load('Trained_Models/SincConv_model.pth', map_location=torch.device(device)))"
   ]
  },
  {
   "cell_type": "code",
   "execution_count": 28,
   "metadata": {},
   "outputs": [],
   "source": [
    "wlen=16000\n",
    "N_batches_te=170\n",
    "\n",
    "batch_size=128\n",
    "Batch_dev=128\n",
    "N_epochs=100\n",
    "N_batches=595\n",
    "N_eval_epoch=8\n",
    "seed=42\n",
    "\n",
    "torch.manual_seed(seed)\n",
    "np.random.seed(seed)"
   ]
  },
  {
   "cell_type": "code",
   "execution_count": 29,
   "metadata": {},
   "outputs": [],
   "source": [
    "def addNoise(sample, SNR):\n",
    "  \n",
    "    sample=np.interp(sample, (sample.min(), sample.max()), (-1, 1))\n",
    "    # plt.plot(sample)\n",
    "    # plt.xlabel(\"Sample number\")\n",
    "    # plt.ylabel(\"Signal amplitude\")\n",
    "    # plt.show()\n",
    "    \n",
    "#     RMS value of signal\n",
    "    RMS_s=math.sqrt(np.mean(sample**2))\n",
    "    #RMS values of noise\n",
    "    RMS_n=math.sqrt(RMS_s**2/(pow(10,SNR/10)))\n",
    "    #Additive white gausian noise. Thereore mean=0\n",
    "    STD_n=RMS_n\n",
    "    # print(STD_n)\n",
    "    noise=np.random.normal(0, STD_n, sample.shape[0])\n",
    "    data =sample\n",
    "    data += noise\n",
    "    data = torch.from_numpy(data)\n",
    "    return data"
   ]
  },
  {
   "cell_type": "code",
   "execution_count": 30,
   "metadata": {},
   "outputs": [],
   "source": [
    "def batch_gen_noise(batch_size,data_folder,wav_lst,N_snt,wlen,lab_dict,SNR):\n",
    "    sig_batch=torch.zeros([batch_size,1, wlen])\n",
    "    lab_batch=torch.zeros(batch_size)\n",
    "    snt_id_arr=torch.randint(0, N_snt, (batch_size,))\n",
    "    \n",
    "    waveforms=[]\n",
    "    for i in range(batch_size):\n",
    "        waveform, sample_rate = torchaudio.load(str(data_folder)+'/'+wav_lst[snt_id_arr[i]])\n",
    "\n",
    "        #ensure all waveforms are padded to a length of 16000\n",
    "        snt_len=waveform.shape[1]\n",
    "        if(snt_len < 16000):\n",
    "            target = torch.zeros((1,16000))\n",
    "            target[:, :snt_len] = waveform\n",
    "            waveform=target\n",
    "        waveform = addNoise(waveform, SNR) \n",
    "        waveforms.append(waveform)\n",
    "        lab_batch[i]=lab_dict[wav_lst[snt_id_arr[i]]]\n",
    "    s = torch.cat(waveforms).unsqueeze(1) # Audio samples, Feature first (1 since mono)\n",
    "    return s, lab_batch"
   ]
  },
  {
   "cell_type": "code",
   "execution_count": 31,
   "metadata": {},
   "outputs": [],
   "source": [
    "SNR_list = [20,15,12,10,8,6,4,3,1,0,-2,-4,-6,-7,-8,-9,11,-13,-15,-17,-18,-19,-20,-21]\n",
    "accuracy_noise = []"
   ]
  },
  {
   "cell_type": "code",
   "execution_count": 32,
   "metadata": {},
   "outputs": [],
   "source": [
    "for i in range(len(SNR_list)):\n",
    "    model_tmp.eval()\n",
    "    correct = 0\n",
    "    SNR = SNR_list[i]\n",
    "    for i in range(N_batches_te):\n",
    "        [data,target]=batch_gen_noise(batch_size,data_folder,wav_lst_te,snt_te,wlen,lab_dict,SNR)\n",
    "        data = data.to(device).float()\n",
    "        target = target.to(device)\n",
    "\n",
    "        output = model(data)\n",
    "\n",
    "        pred = pred=torch.max(output,dim=1)[1]\n",
    "          \n",
    "        correct+= (pred == target).float().sum() \n",
    "\n",
    "    accuracy_noise.append(correct/(batch_size*N_batches_te))"
   ]
  },
  {
   "cell_type": "code",
   "execution_count": 35,
   "metadata": {},
   "outputs": [],
   "source": [
    "acc =[]\n",
    "for i in range(len(accuracy_noise)):\n",
    "  acc.append(float(\"{:.2f}\".format(accuracy_noise[i])))"
   ]
  },
  {
   "cell_type": "code",
   "execution_count": 36,
   "metadata": {},
   "outputs": [],
   "source": [
    "df = pd.DataFrame(columns=['Noise_Ratio', 'Accuracy'])"
   ]
  },
  {
   "cell_type": "code",
   "execution_count": 37,
   "metadata": {},
   "outputs": [],
   "source": [
    "df['Noise_Ratio'] = SNR_list\n",
    "df['Accuracy'] = acc"
   ]
  },
  {
   "cell_type": "code",
   "execution_count": 38,
   "metadata": {},
   "outputs": [
    {
     "data": {
      "text/plain": [
       "<matplotlib.axes._subplots.AxesSubplot at 0x1fa1ef5fa48>"
      ]
     },
     "execution_count": 38,
     "metadata": {},
     "output_type": "execute_result"
    },
    {
     "data": {
      "image/png": "[encoded data removed]",
      "text/plain": [
       "<Figure size 1080x720 with 1 Axes>"
      ]
     },
     "metadata": {
      "needs_background": "light"
     },
     "output_type": "display_data"
    }
   ],
   "source": [
    "df.plot(x='Noise_Ratio', y='Accuracy', xlabel='SNR Ratio', ylabel='Accuracy of Model', style='o', grid=True, figsize=(15,10))"
   ]
  },
  {
   "cell_type": "code",
   "execution_count": null,
   "metadata": {},
   "outputs": [],
   "source": []
  },
  {
   "cell_type": "code",
   "execution_count": null,
   "metadata": {},
   "outputs": [],
   "source": []
  },
  {
   "cell_type": "code",
   "execution_count": null,
   "metadata": {},
   "outputs": [],
   "source": []
  }
 ],
 "metadata": {
  "kernelspec": {
   "display_name": "Python 3",
   "language": "python",
   "name": "python3"
  },
  "language_info": {
   "codemirror_mode": {
    "name": "ipython",
    "version": 3
   },
   "file_extension": ".py",
   "mimetype": "text/x-python",
   "name": "python",
   "nbconvert_exporter": "python",
   "pygments_lexer": "ipython3",
   "version": "3.7.6"
  }
 },
 "nbformat": 4,
 "nbformat_minor": 4
}
