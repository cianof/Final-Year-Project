{
 "cells": [
  {
   "cell_type": "code",
   "execution_count": 1,
   "metadata": {},
   "outputs": [],
   "source": [
    "from os import listdir\n",
    "from os.path import isdir, join\n",
    "import numpy as np\n",
    "import matplotlib.pyplot as plt\n",
    "from scipy.io import wavfile\n",
    "from python_speech_features import mfcc, logfbank\n",
    "import librosa"
   ]
  },
  {
   "cell_type": "code",
   "execution_count": 2,
   "metadata": {},
   "outputs": [
    {
     "name": "stdout",
     "output_type": "stream",
     "text": [
      "['backward', 'bed', 'bird', 'cat', 'dog', 'down', 'eight', 'five', 'follow', 'forward', 'four', 'go', 'happy', 'house', 'learn', 'left', 'marvin', 'nine', 'no', 'off', 'on', 'one', 'right', 'seven', 'sheila', 'six', 'stop', 'three', 'tree', 'two', 'up', 'visual', 'wow', 'yes', 'zero']\n"
     ]
    }
   ],
   "source": [
    "data_dir='C:/Users/cferr/Documents/4th Year/FYP Data/speech_commands_v0.02'\n",
    "data_dir_mini='C:/Users/cferr/OneDrive/Documents/4th Year/FYP/Implementation/data/mini_speech_commands/'\n",
    "keywords = [name for name in listdir(data_dir) if isdir(join(data_dir, name))]\n",
    "#remove bg noise as it not a keyword\n",
    "keywords.remove('_background_noise_')\n",
    "print(keywords)"
   ]
  },
  {
   "cell_type": "code",
   "execution_count": 47,
   "metadata": {},
   "outputs": [],
   "source": [
    "go1 = data_dir+'go/0a9f9af7_nohash_0.wav'\n",
    "up2=data_dir+'up/0ac15fe9_nohash_0.wav'"
   ]
  },
  {
   "cell_type": "markdown",
   "metadata": {},
   "source": [
    "#### Using p_s_f"
   ]
  },
  {
   "cell_type": "code",
   "execution_count": 48,
   "metadata": {},
   "outputs": [],
   "source": [
    "sr,y=wavfile.read(go1)"
   ]
  },
  {
   "cell_type": "code",
   "execution_count": 49,
   "metadata": {},
   "outputs": [
    {
     "data": {
      "text/plain": [
       "numpy.ndarray"
      ]
     },
     "execution_count": 49,
     "metadata": {},
     "output_type": "execute_result"
    }
   ],
   "source": [
    "type(y)"
   ]
  },
  {
   "cell_type": "code",
   "execution_count": 50,
   "metadata": {},
   "outputs": [],
   "source": [
    "y=y[:15000]"
   ]
  },
  {
   "cell_type": "code",
   "execution_count": 51,
   "metadata": {},
   "outputs": [],
   "source": [
    "mfccs=mfcc(y, sr)"
   ]
  },
  {
   "cell_type": "code",
   "execution_count": 52,
   "metadata": {},
   "outputs": [
    {
     "name": "stdout",
     "output_type": "stream",
     "text": [
      "\n",
      "MFCC:\n",
      "Number of windows = 84\n",
      "Length of each feature = 13\n"
     ]
    }
   ],
   "source": [
    "print('\\nMFCC:\\nNumber of windows =', mfccs.shape[0])\n",
    "print('Length of each feature =', mfccs.shape[1])"
   ]
  },
  {
   "cell_type": "code",
   "execution_count": 29,
   "metadata": {},
   "outputs": [
    {
     "data": {
      "text/plain": [
       "Text(0.5, 1.05, 'MFCC')"
      ]
     },
     "execution_count": 29,
     "metadata": {},
     "output_type": "execute_result"
    },
    {
     "data": {
      "image/png": "[encoded data removed]",
      "text/plain": [
       "<Figure size 1152x161.032 with 1 Axes>"
      ]
     },
     "metadata": {
      "needs_background": "light"
     },
     "output_type": "display_data"
    }
   ],
   "source": [
    "mfccs = mfccs.T\n",
    "plt.matshow(mfccs)\n",
    "plt.title('MFCC')"
   ]
  },
  {
   "cell_type": "code",
   "execution_count": 18,
   "metadata": {},
   "outputs": [],
   "source": [
    "sr,y=wavfile.read(go1)\n",
    "filterbank_features = logfbank(y, sr)"
   ]
  },
  {
   "cell_type": "code",
   "execution_count": 19,
   "metadata": {},
   "outputs": [
    {
     "name": "stdout",
     "output_type": "stream",
     "text": [
      "\n",
      "Filter bank:\n",
      "Number of windows = 84\n",
      "Length of each feature = 26\n"
     ]
    }
   ],
   "source": [
    "print('\\nFilter bank:\\nNumber of windows =', filterbank_features.shape[0])\n",
    "print('Length of each feature =', filterbank_features.shape[1])"
   ]
  },
  {
   "cell_type": "code",
   "execution_count": 20,
   "metadata": {},
   "outputs": [
    {
     "data": {
      "image/png": "[encoded data removed]",
      "text/plain": [
       "<Figure size 930.462x288 with 1 Axes>"
      ]
     },
     "metadata": {
      "needs_background": "light"
     },
     "output_type": "display_data"
    }
   ],
   "source": [
    "filterbank_features = filterbank_features.T\n",
    "plt.matshow(filterbank_features)\n",
    "plt.title('Filter bank')\n",
    "plt.show()"
   ]
  },
  {
   "cell_type": "markdown",
   "metadata": {},
   "source": [
    "#### Using librosa"
   ]
  },
  {
   "cell_type": "code",
   "execution_count": 39,
   "metadata": {},
   "outputs": [
    {
     "name": "stdout",
     "output_type": "stream",
     "text": [
      "0.8533786848072562\n",
      "MFCC calculated duration is 0.86 seconds\n"
     ]
    }
   ],
   "source": [
    "\n",
    "# Load the waveforms samples and convert to mfcc\n",
    "raw_samples, sample_rate = librosa.load(go1)\n",
    "mfcc  = librosa.feature.mfcc(y=raw_samples, sr=sample_rate)\n",
    "# print('Wave duration is %4.2f seconds'+ %(len(raw_samples)/float(sample_rate)))\n",
    "print(len(raw_samples)/float(sample_rate))\n",
    "\n",
    "    # Create the network's input training data, X\n",
    "    # mfcc is organized (feature, sample) but the net needs (sample, feature)\n",
    "    # X is mfcc reorganized to (sample, feature)\n",
    "X = np.moveaxis(mfcc, 1, 0)\n",
    "\n",
    "    # Note that 512 samples is the default 'hop_length' used in calculating \n",
    "    # the mfcc so each mfcc spans 512/sample_rate seconds.\n",
    "mfcc_samples = mfcc.shape[1]\n",
    "mfcc_span    = 512/float(sample_rate)\n",
    "print('MFCC calculated duration is %4.2f seconds' %(mfcc_span*mfcc_samples))\n",
    "\n",
    "    # for 'n' network input samples, calculate the time point where they occur\n",
    "    # and get the appropriate label index for them.\n",
    "    # Use +0.5 to get the middle of the mfcc's point in time.\n"
   ]
  },
  {
   "cell_type": "code",
   "execution_count": 53,
   "metadata": {},
   "outputs": [
    {
     "data": {
      "text/plain": [
       "Text(0.5, 1.05, 'MFCC')"
      ]
     },
     "execution_count": 53,
     "metadata": {},
     "output_type": "execute_result"
    },
    {
     "data": {
      "image/png": "[encoded data removed]",
      "text/plain": [
       "<Figure size 532.8x288 with 1 Axes>"
      ]
     },
     "metadata": {
      "needs_background": "light"
     },
     "output_type": "display_data"
    }
   ],
   "source": [
    "X = X.T\n",
    "plt.matshow(X)\n",
    "plt.title('MFCC')"
   ]
  },
  {
   "cell_type": "markdown",
   "metadata": {},
   "source": [
    "# tuning section"
   ]
  },
  {
   "cell_type": "code",
   "execution_count": 13,
   "metadata": {},
   "outputs": [],
   "source": [
    "import os\n",
    "from os.path import isdir, join\n",
    "import numpy as np\n",
    "import tensorflow as tf\n",
    "from tensorflow import keras\n",
    "from pathlib import Path\n",
    "from scipy.io import wavfile\n",
    "import python_speech_features\n",
    "from tqdm.notebook import tqdm\n",
    "from sklearn.model_selection import train_test_split\n",
    "from sklearn.metrics import confusion_matrix\n",
    "from livelossplot import PlotLossesKeras\n",
    "%matplotlib inline\n",
    "import matplotlib.pyplot as plt\n",
    "from datetime import datetime\n",
    "from timeit import default_timer as timer\n",
    "from IPython.display import clear_output"
   ]
  },
  {
   "cell_type": "code",
   "execution_count": 4,
   "metadata": {},
   "outputs": [
    {
     "data": {
      "image/png": "[encoded data removed]",
      "text/plain": [
       "<Figure size 2160x360 with 1 Axes>"
      ]
     },
     "metadata": {
      "needs_background": "light"
     },
     "output_type": "display_data"
    }
   ],
   "source": [
    "no_of_recordings=[]\n",
    "for label in keywords:\n",
    "    waves = [f for f in os.listdir(data_dir + '/'+ label) if f.endswith('.wav')]\n",
    "    no_of_recordings.append(len(waves))\n",
    "    \n",
    "#plot\n",
    "plt.figure(figsize=(30,5))\n",
    "index = np.arange(len(keywords))\n",
    "plt.bar(index, no_of_recordings)\n",
    "plt.xlabel('Commands', fontsize=12)\n",
    "plt.ylabel('No of recordings', fontsize=12)\n",
    "plt.xticks(index, keywords, fontsize=15, rotation=60)\n",
    "plt.title('No. of recordings for each command')\n",
    "plt.show()"
   ]
  },
  {
   "cell_type": "code",
   "execution_count": 5,
   "metadata": {},
   "outputs": [
    {
     "data": {
      "text/plain": [
       "1557"
      ]
     },
     "execution_count": 5,
     "metadata": {},
     "output_type": "execute_result"
    }
   ],
   "source": [
    "min(no_of_recordings)"
   ]
  },
  {
   "cell_type": "markdown",
   "metadata": {},
   "source": [
    "we can see that there a number of words with sig less samples than others, therefore will try average out"
   ]
  },
  {
   "cell_type": "code",
   "execution_count": 10,
   "metadata": {},
   "outputs": [],
   "source": [
    "word2index = {\n",
    "    # core words\n",
    "    \"backward\": 0,\n",
    "    \"bed\": 1,\n",
    "    \"bird\": 2,\n",
    "    \"cat\": 3,\n",
    "    \"dog\": 4,\n",
    "    \"down\": 5,\n",
    "    \"eight\": 6,\n",
    "    \"five\": 7,\n",
    "    \"follow\": 8,\n",
    "    \"forward\": 9,\n",
    "    \"four\": 10,\n",
    "    \"go\": 11,\n",
    "    \"happy\": 12,\n",
    "    \"house\": 13,\n",
    "    \"learn\": 14,\n",
    "    \"left\": 15,\n",
    "    \"marvin\": 16,\n",
    "    \"nine\": 17,\n",
    "    \"no\": 18,\n",
    "    \"off\": 19,\n",
    "    \"on\":20,\n",
    "    \"one\":21,\n",
    "    \"right\":22,\n",
    "    \"seven\":23,\n",
    "    \"sheila\":24,\n",
    "    \"six\":25,\n",
    "    \"stop\":26,\n",
    "    \"three\":27,\n",
    "    \"tree\":28,\n",
    "    \"two\":29,\n",
    "    \"up\":30,\n",
    "    \"visual\":31,\n",
    "    \"wow\":32,\n",
    "    \"yes\":33,\n",
    "    \"zero\":34\n",
    "}\n",
    "\n",
    "index2word = [word for word in word2index]"
   ]
  },
  {
   "cell_type": "code",
   "execution_count": 11,
   "metadata": {},
   "outputs": [
    {
     "data": {
      "text/plain": [
       "35"
      ]
     },
     "execution_count": 11,
     "metadata": {},
     "output_type": "execute_result"
    }
   ],
   "source": [
    "len(word2index)"
   ]
  },
  {
   "cell_type": "code",
   "execution_count": 12,
   "metadata": {},
   "outputs": [],
   "source": [
    "num_classes = len(word2index)\n",
    "num_samples_per_class = 1500\n",
    "speech_commands_dataset_basepath = Path(data_dir)\n",
    "\n",
    "samples = []\n",
    "classes =  []\n",
    "\n",
    "for word_class in word2index:\n",
    "    folder = speech_commands_dataset_basepath / word_class # sub-folder for each word\n",
    "    count = 0\n",
    "    for file in folder.iterdir(): # iterate over all files in the folder\n",
    "        # somehow, there are samples which aren't exactly 1 s long in the dataset. ignore those\n",
    "        if file.stat().st_size == 32044:\n",
    "            samples.append(file) # store path of sample file\n",
    "            classes.append(word2index[word_class]) # append word class index to list\n",
    "            count +=1\n",
    "            \n",
    "        if count >= num_samples_per_class:\n",
    "            break\n",
    "classes = np.array(classes, dtype=np.int)"
   ]
  },
  {
   "cell_type": "code",
   "execution_count": 63,
   "metadata": {},
   "outputs": [],
   "source": [
    "def extract_mfcc(filepath):\n",
    "    samplerate, data = wavfile.read(filepath)\n",
    "    data = data.astype(np.float)\n",
    "    # normalize data\n",
    "    data -= data.mean()\n",
    "    data /= np.max((data.max(), -data.min()))\n",
    "    # add gaussian noise\n",
    "#     data += np.random.normal(loc=0.0, scale=0.025, size=data.shape)\n",
    "    # compute MFCC coefficients\n",
    "    features = python_speech_features.mfcc(data, samplerate=16000, winlen=0.025, winstep=0.01, numcep=13, nfilt=40, nfft=512, lowfreq=100, highfreq=None, preemph=0.97, ceplifter=22, appendEnergy=True, winfunc=np.hamming)\n",
    "    return features.T"
   ]
  },
  {
   "cell_type": "code",
   "execution_count": 64,
   "metadata": {},
   "outputs": [
    {
     "name": "stdout",
     "output_type": "stream",
     "text": [
      "features.shape (52274, 13, 99)\n",
      "pre-computing features from audio files...\n"
     ]
    },
    {
     "data": {
      "application/vnd.jupyter.widget-view+json": {
       "model_id": "5dee20f7264e4fd3ad68035a1be4b975",
       "version_major": 2,
       "version_minor": 0
      },
      "text/plain": [
       "HBox(children=(FloatProgress(value=0.0, max=52274.0), HTML(value='')))"
      ]
     },
     "metadata": {},
     "output_type": "display_data"
    },
    {
     "name": "stdout",
     "output_type": "stream",
     "text": [
      "\n"
     ]
    }
   ],
   "source": [
    "feature_shape = extract_mfcc(samples[0]).shape\n",
    "features = np.empty((len(samples), )+(feature_shape), dtype=np.float)\n",
    "print(\"features.shape\", features.shape)\n",
    "\n",
    "print(\"pre-computing features from audio files...\")\n",
    "with tqdm(total=len(samples)) as pbar:\n",
    "    for k, sample in enumerate(samples):\n",
    "        features[k] = wav2feature(sample)\n",
    "        pbar.update()"
   ]
  },
  {
   "cell_type": "code",
   "execution_count": 66,
   "metadata": {},
   "outputs": [
    {
     "data": {
      "text/plain": [
       "(52274, 13, 99)"
      ]
     },
     "execution_count": 66,
     "metadata": {},
     "output_type": "execute_result"
    }
   ],
   "source": [
    "features.shape"
   ]
  },
  {
   "cell_type": "code",
   "execution_count": 67,
   "metadata": {},
   "outputs": [],
   "source": [
    "train_data, validation_data, train_classes, validation_classes = train_test_split(features, classes,\n",
    "                                                                      test_size=0.30, random_state=42, shuffle=True)"
   ]
  },
  {
   "cell_type": "code",
   "execution_count": 68,
   "metadata": {},
   "outputs": [],
   "source": [
    "train_data = train_data.reshape(train_data.shape[0], \n",
    "                          train_data.shape[1], \n",
    "                          train_data.shape[2], \n",
    "                          1)\n",
    "validation_data = validation_data.reshape(validation_data.shape[0], \n",
    "                      validation_data.shape[1], \n",
    "                      validation_data.shape[2], \n",
    "                      1)"
   ]
  },
  {
   "cell_type": "code",
   "execution_count": 99,
   "metadata": {},
   "outputs": [
    {
     "name": "stdout",
     "output_type": "stream",
     "text": [
      "Model: \"sequential\"\n",
      "_________________________________________________________________\n",
      "Layer (type)                 Output Shape              Param #   \n",
      "=================================================================\n",
      "conv2d (Conv2D)              (None, 11, 97, 32)        320       \n",
      "_________________________________________________________________\n",
      "max_pooling2d (MaxPooling2D) (None, 11, 48, 32)        0         \n",
      "_________________________________________________________________\n",
      "dropout (Dropout)            (None, 11, 48, 32)        0         \n",
      "_________________________________________________________________\n",
      "conv2d_1 (Conv2D)            (None, 9, 46, 64)         18496     \n",
      "_________________________________________________________________\n",
      "conv2d_2 (Conv2D)            (None, 9, 46, 16)         1040      \n",
      "_________________________________________________________________\n",
      "max_pooling2d_1 (MaxPooling2 (None, 9, 23, 16)         0         \n",
      "_________________________________________________________________\n",
      "dropout_1 (Dropout)          (None, 9, 23, 16)         0         \n",
      "_________________________________________________________________\n",
      "conv2d_3 (Conv2D)            (None, 7, 21, 32)         4640      \n",
      "_________________________________________________________________\n",
      "max_pooling2d_2 (MaxPooling2 (None, 3, 10, 32)         0         \n",
      "_________________________________________________________________\n",
      "flatten (Flatten)            (None, 960)               0         \n",
      "_________________________________________________________________\n",
      "dense (Dense)                (None, 256)               246016    \n",
      "_________________________________________________________________\n",
      "dropout_2 (Dropout)          (None, 256)               0         \n",
      "_________________________________________________________________\n",
      "dense_1 (Dense)              (None, 35)                8995      \n",
      "=================================================================\n",
      "Total params: 279,507\n",
      "Trainable params: 279,507\n",
      "Non-trainable params: 0\n",
      "_________________________________________________________________\n"
     ]
    }
   ],
   "source": [
    "keras.backend.clear_session() \n",
    "\n",
    "model = keras.models.Sequential()\n",
    "model.add(keras.layers.Input(shape=(13, 99, 1)))\n",
    "model.add(keras.layers.Conv2D(32, kernel_size=(3, 3), activation='relu')) #try 64 vs 32\n",
    "model.add(keras.layers.MaxPooling2D(pool_size=(1,2)))#reducing in x dimension by 2\n",
    "model.add(keras.layers.Dropout(0.25))#check to make sure this is 25 not 75\n",
    "model.add(keras.layers.Conv2D(64, kernel_size=(3, 3), activation='relu'))\n",
    "#bottleneck to summarise info\n",
    "model.add(keras.layers.Conv2D(16, kernel_size=(1,1), activation='relu'))\n",
    "model.add(keras.layers.MaxPooling2D(pool_size=(1, 2)))\n",
    "\n",
    "model.add(keras.layers.Dropout(0.25))\n",
    "\n",
    "model.add(keras.layers.Conv2D(32, kernel_size=(3,3), activation='relu'))\n",
    "model.add(keras.layers.MaxPooling2D(pool_size=(2, 2)))\n",
    "\n",
    "model.add(keras.layers.Flatten())\n",
    "model.add(keras.layers.Dense(256, activation='relu'))\n",
    "model.add(keras.layers.Dropout(0.25))\n",
    "model.add(keras.layers.Dense(num_classes, activation='softmax'))\n",
    "\n",
    "model.summary()"
   ]
  },
  {
   "cell_type": "code",
   "execution_count": 100,
   "metadata": {},
   "outputs": [],
   "source": [
    "sgd = keras.optimizers.Adam()\n",
    "loss_fn = keras.losses.SparseCategoricalCrossentropy() # use Sparse because classes are represented as integers not as one-hot encoding\n",
    "\n",
    "model.compile(optimizer=sgd, loss=loss_fn, metrics=[\"accuracy\"])"
   ]
  },
  {
   "cell_type": "code",
   "execution_count": 101,
   "metadata": {},
   "outputs": [
    {
     "data": {
      "image/png": "[encoded data removed]",
      "text/plain": [
       "<Figure size 864x576 with 2 Axes>"
      ]
     },
     "metadata": {
      "needs_background": "light"
     },
     "output_type": "display_data"
    },
    {
     "name": "stdout",
     "output_type": "stream",
     "text": [
      "accuracy\n",
      "\ttraining         \t (min:    0.228, max:    0.886, cur:    0.886)\n",
      "\tvalidation       \t (min:    0.485, max:    0.847, cur:    0.845)\n",
      "Loss\n",
      "\ttraining         \t (min:    0.358, max:    2.769, cur:    0.358)\n",
      "\tvalidation       \t (min:    0.550, max:    1.943, cur:    0.570)\n"
     ]
    }
   ],
   "source": [
    "early_stopping = tf.keras.callbacks.EarlyStopping(monitor=\"val_accuracy\", patience=5, restore_best_weights=True)\n",
    "plt.close()\n",
    "\n",
    "history = model.fit(train_data, \n",
    "                    train_classes, \n",
    "                    batch_size=32, \n",
    "                    epochs=100, \n",
    "                    validation_data=(validation_data, validation_classes),\n",
    "                    callbacks=[PlotLossesKeras(), early_stopping])"
   ]
  },
  {
   "cell_type": "code",
   "execution_count": 102,
   "metadata": {},
   "outputs": [],
   "source": [
    "model.save(datetime.now().strftime(\"%d_%m_%Y__%H_%M\")+\".h5\")"
   ]
  },
  {
   "cell_type": "code",
   "execution_count": 103,
   "metadata": {},
   "outputs": [],
   "source": [
    "sample_file = str(data_dir)+'/'+'no/01bb6a2a_nohash_0.wav'\n",
    "\n",
    "features = wav2feature(sample_file)\n",
    "features=features.reshape(1,features.shape[0], \n",
    "                          features.shape[1],  \n",
    "                          1)\n",
    "prediction = model(features)\n",
    "\n",
    "# for spectrogram, label in sample_ds.batch(1):\n",
    "#   prediction = model(spectrogram)\n",
    "#   plt.bar(commands, tf.nn.softmax(prediction[0]))\n",
    "#   plt.title(f'Predictions for \"{commands[label[0]]}\"')\n",
    "#   plt.show()"
   ]
  },
  {
   "cell_type": "code",
   "execution_count": 104,
   "metadata": {},
   "outputs": [],
   "source": [
    "prediction = model.predict(features).reshape((35, ))"
   ]
  },
  {
   "cell_type": "code",
   "execution_count": 105,
   "metadata": {},
   "outputs": [
    {
     "name": "stdout",
     "output_type": "stream",
     "text": [
      "candidates:\n",
      "-----------------------------\n",
      "1.)\tno\t:\t93.6%\n",
      "2.)\tgo\t:\t3.8%\n",
      "3.)\tlearn\t:\t1.6%\n"
     ]
    }
   ],
   "source": [
    "prediction /= prediction.sum()\n",
    "\n",
    "# print the 3 candidates with highest probability\n",
    "prediction_sorted_indices = prediction.argsort()\n",
    "print(\"candidates:\\n-----------------------------\")\n",
    "for k in range(3):\n",
    "    i = int(prediction_sorted_indices[-1-k])\n",
    "    print(\"%d.)\\t%s\\t:\\t%2.1f%%\" % (k+1, index2word[i], prediction[i]*100))"
   ]
  },
  {
   "cell_type": "code",
   "execution_count": null,
   "metadata": {},
   "outputs": [],
   "source": []
  }
 ],
 "metadata": {
  "kernelspec": {
   "display_name": "Python 3",
   "language": "python",
   "name": "python3"
  },
  "language_info": {
   "codemirror_mode": {
    "name": "ipython",
    "version": 3
   },
   "file_extension": ".py",
   "mimetype": "text/x-python",
   "name": "python",
   "nbconvert_exporter": "python",
   "pygments_lexer": "ipython3",
   "version": "3.7.6"
  }
 },
 "nbformat": 4,
 "nbformat_minor": 4
}
